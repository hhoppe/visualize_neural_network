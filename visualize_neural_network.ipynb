{
 "cells": [
  {
   "cell_type": "markdown",
   "id": "0085c5fe-2982-45ae-94ef-028775409293",
   "metadata": {
    "lines_to_next_cell": 2
   },
   "source": [
    "# Visualize a 1D neural network"
   ]
  },
  {
   "cell_type": "markdown",
   "id": "52465b0d-21cf-471b-b81b-644d44fc8a0e",
   "metadata": {},
   "source": [
    "Optimization and interactive control of a 1D -> 1D neural network function."
   ]
  },
  {
   "cell_type": "markdown",
   "id": "afb742f2-d8f6-4e16-aeb3-b68b4171fc48",
   "metadata": {},
   "source": [
    "[[**Open this notebook in Colab**]](https://colab.research.google.com/github/hhoppe/visualize_neural_network/blob/main/visualize_neural_network.ipynb)"
   ]
  },
  {
   "cell_type": "markdown",
   "id": "68e12226-2df7-440c-b8e1-bed720364746",
   "metadata": {
    "execution": {
     "iopub.execute_input": "2024-01-11T02:53:09.010080Z",
     "iopub.status.busy": "2024-01-11T02:53:09.009633Z",
     "iopub.status.idle": "2024-01-11T02:53:09.012761Z",
     "shell.execute_reply": "2024-01-11T02:53:09.012024Z",
     "shell.execute_reply.started": "2024-01-11T02:53:09.010052Z"
    }
   },
   "source": [
    "## Preamble"
   ]
  },
  {
   "cell_type": "code",
   "execution_count": 1,
   "id": "1d3ff077-a516-4d19-8e4c-fc7a29f9a783",
   "metadata": {
    "execution": {
     "iopub.execute_input": "2024-01-12T07:01:20.576345Z",
     "iopub.status.busy": "2024-01-12T07:01:20.576221Z",
     "iopub.status.idle": "2024-01-12T07:01:21.665653Z",
     "shell.execute_reply": "2024-01-12T07:01:21.665098Z",
     "shell.execute_reply.started": "2024-01-12T07:01:20.576333Z"
    }
   },
   "outputs": [],
   "source": [
    "# pylint: disable=missing-function-docstring, global-statement, redefined-outer-name\n",
    "\n",
    "import contextlib\n",
    "import math\n",
    "\n",
    "import IPython.display\n",
    "import ipywidgets\n",
    "import matplotlib.pyplot as plt\n",
    "import networkx\n",
    "import numpy as np\n",
    "import torch"
   ]
  },
  {
   "cell_type": "code",
   "execution_count": 2,
   "id": "450dd4e0-c2ab-4fe8-bee6-9282aa5e971c",
   "metadata": {
    "execution": {
     "iopub.execute_input": "2024-01-12T07:01:21.667408Z",
     "iopub.status.busy": "2024-01-12T07:01:21.666657Z",
     "iopub.status.idle": "2024-01-12T07:01:21.670088Z",
     "shell.execute_reply": "2024-01-12T07:01:21.669421Z",
     "shell.execute_reply.started": "2024-01-12T07:01:21.667391Z"
    }
   },
   "outputs": [],
   "source": [
    "SHOW_SLIDERS = True\n",
    "VERBOSE = False\n",
    "R = 10"
   ]
  },
  {
   "cell_type": "code",
   "execution_count": 3,
   "id": "bbf1fc8b-2672-405c-8375-79c36532df03",
   "metadata": {
    "execution": {
     "iopub.execute_input": "2024-01-12T07:01:21.670859Z",
     "iopub.status.busy": "2024-01-12T07:01:21.670705Z",
     "iopub.status.idle": "2024-01-12T07:01:21.680593Z",
     "shell.execute_reply": "2024-01-12T07:01:21.679679Z",
     "shell.execute_reply.started": "2024-01-12T07:01:21.670846Z"
    }
   },
   "outputs": [],
   "source": [
    "# Numbers of nodes in each layer of the neural network (layer 0 is input, last layer is output):\n",
    "# LAYER_SIZES = 1, 3, 1\n",
    "LAYER_SIZES = 1, 2, 2, 1\n",
    "# LAYER_SIZES = 1, 3, 3, 1\n",
    "# LAYER_SIZES = 1, 4, 4, 1\n",
    "# LAYER_SIZES = 1, 4, 4, 4, 1  # It is best to set SHOW_SLIDERS=False."
   ]
  },
  {
   "cell_type": "markdown",
   "id": "eb340272-d2c1-4c00-8e77-b596c9b3f948",
   "metadata": {
    "execution": {
     "iopub.execute_input": "2024-01-11T02:49:47.538972Z",
     "iopub.status.busy": "2024-01-11T02:49:47.538630Z",
     "iopub.status.idle": "2024-01-11T02:49:47.541697Z",
     "shell.execute_reply": "2024-01-11T02:49:47.541218Z",
     "shell.execute_reply.started": "2024-01-11T02:49:47.538943Z"
    }
   },
   "source": [
    "## Target functions"
   ]
  },
  {
   "cell_type": "code",
   "execution_count": 4,
   "id": "cfa74753-ec8b-4a3e-8c08-0d48e4341c7b",
   "metadata": {
    "execution": {
     "iopub.execute_input": "2024-01-12T07:01:21.681704Z",
     "iopub.status.busy": "2024-01-12T07:01:21.681529Z",
     "iopub.status.idle": "2024-01-12T07:01:21.691224Z",
     "shell.execute_reply": "2024-01-12T07:01:21.690560Z",
     "shell.execute_reply.started": "2024-01-12T07:01:21.681692Z"
    },
    "lines_to_next_cell": 2
   },
   "outputs": [],
   "source": [
    "TARGETS = {\n",
    "    'sine': lambda x: np.sin(math.tau * x),\n",
    "    'cosine': lambda x: np.cos(math.tau * x),\n",
    "    'triangle': lambda x: 1 - 2 * np.abs(x - 0.5),\n",
    "    'half-sine': lambda x: np.sin(math.tau / 2 * x),\n",
    "}"
   ]
  },
  {
   "cell_type": "markdown",
   "id": "1d44aec5-6b43-4d29-93aa-a40d5c8f034a",
   "metadata": {
    "lines_to_next_cell": 2
   },
   "source": [
    "## Activation functions"
   ]
  },
  {
   "cell_type": "code",
   "execution_count": 5,
   "id": "b129e4b7-480d-43f3-bfff-11338ff05de3",
   "metadata": {
    "execution": {
     "iopub.execute_input": "2024-01-12T07:01:21.692385Z",
     "iopub.status.busy": "2024-01-12T07:01:21.692047Z",
     "iopub.status.idle": "2024-01-12T07:01:21.701086Z",
     "shell.execute_reply": "2024-01-12T07:01:21.700444Z",
     "shell.execute_reply.started": "2024-01-12T07:01:21.692371Z"
    }
   },
   "outputs": [],
   "source": [
    "def relu(x):\n",
    "  return torch.nn.functional.relu(x) if isinstance(x, torch.Tensor) else np.maximum(0, x)\n",
    "\n",
    "\n",
    "def leaky_relu(x, negative_slope=0.1):\n",
    "  if isinstance(x, torch.Tensor):\n",
    "    return torch.nn.functional.leaky_relu(x, negative_slope=negative_slope)\n",
    "  return np.maximum(x * negative_slope, x)\n",
    "\n",
    "\n",
    "def identity(x):\n",
    "  return x\n",
    "\n",
    "\n",
    "def sigmoid(x):\n",
    "  return torch.sigmoid(x) if isinstance(x, torch.Tensor) else 1 / (1 + np.exp(-x))\n",
    "\n",
    "\n",
    "ACTIVATIONS = {'relu': relu, 'leaky_relu': leaky_relu, 'identity': identity, 'sigmoid': sigmoid}"
   ]
  },
  {
   "cell_type": "markdown",
   "id": "257f2c7f-1c3b-475a-b5bc-b3cdcb2c4545",
   "metadata": {
    "lines_to_next_cell": 2
   },
   "source": [
    "## Neural network"
   ]
  },
  {
   "cell_type": "code",
   "execution_count": 6,
   "id": "36cb516a-9903-4c3c-9116-569ec92229d0",
   "metadata": {
    "execution": {
     "iopub.execute_input": "2024-01-12T07:01:21.701926Z",
     "iopub.status.busy": "2024-01-12T07:01:21.701760Z",
     "iopub.status.idle": "2024-01-12T07:01:21.710899Z",
     "shell.execute_reply": "2024-01-12T07:01:21.710300Z",
     "shell.execute_reply.started": "2024-01-12T07:01:21.701914Z"
    },
    "lines_to_next_cell": 2
   },
   "outputs": [],
   "source": [
    "# The dictionary `params` contains weights 'w{layer}{curr_index}{prev_index}' and\n",
    "# biases 'b{layer}{index}', as either float values or (scalar) torch tensors.\n",
    "def neural_network(inputs, params, activations, output_layer_index=10**9):\n",
    "  assert len(inputs) == LAYER_SIZES[0]\n",
    "  outputs = inputs\n",
    "  for layer_index, layer_size in enumerate(LAYER_SIZES[1 : output_layer_index + 1], 1):\n",
    "    activation = activations[layer_index]\n",
    "    nodes = []\n",
    "    for node_index in range(layer_size):\n",
    "      linear = sum(\n",
    "          params[f'w{layer_index}{node_index}{prev_index}'] * prev_node\n",
    "          for prev_index, prev_node in enumerate(outputs)\n",
    "      )\n",
    "      node = activation(linear + params[f'b{layer_index}{node_index}'])  # type: ignore[operator]\n",
    "      nodes.append(node)\n",
    "    outputs = nodes\n",
    "  return outputs"
   ]
  },
  {
   "cell_type": "markdown",
   "id": "ee2a722d-c0dc-4164-8842-340cdfa48fdb",
   "metadata": {
    "lines_to_next_cell": 2
   },
   "source": [
    "## Params initialization"
   ]
  },
  {
   "cell_type": "code",
   "execution_count": 7,
   "id": "20548184-8448-480e-90bc-e57d06004b90",
   "metadata": {
    "execution": {
     "iopub.execute_input": "2024-01-12T07:01:21.712333Z",
     "iopub.status.busy": "2024-01-12T07:01:21.712070Z",
     "iopub.status.idle": "2024-01-12T07:01:21.722370Z",
     "shell.execute_reply": "2024-01-12T07:01:21.721865Z",
     "shell.execute_reply.started": "2024-01-12T07:01:21.712319Z"
    },
    "lines_to_next_cell": 2
   },
   "outputs": [],
   "source": [
    "def get_reset_params():\n",
    "  d: dict[str, float] = {}\n",
    "\n",
    "  if LAYER_SIZES == (1, 3, 1):\n",
    "    d |= dict(w100=1.3, b10=-0.2, w110=3.0, b11=-2.1, w120=2.5, b12=-1.0)\n",
    "    d |= dict(w200=7.0, w201=4.0, w202=-5.8, b20=-1.0)\n",
    "\n",
    "  elif LAYER_SIZES == (1, 2, 2, 1):\n",
    "    d |= dict(w100=-3.45, b10=2.38, w110=6.88, b11=-2.76)\n",
    "    d |= dict(w200=-1.40, w201=-0.59, b20=2.03, w210=-0.78, w211=-0.50, b21=1.48)\n",
    "    d |= dict(w300=1.93, w301=-1.15, b30=0.17)\n",
    "\n",
    "  else:\n",
    "    rng = np.random.default_rng(0)  # Deterministic.\n",
    "    for layer_index, layer_size in enumerate(LAYER_SIZES[1:], 1):\n",
    "      for node_index in range(layer_size):\n",
    "        for prev_index in range(LAYER_SIZES[layer_index - 1]):\n",
    "          d[f'w{layer_index}{node_index}{prev_index}'] = rng.random() * 2 - 1\n",
    "        d[f'b{layer_index}{node_index}'] = rng.random() * 2 - 1\n",
    "\n",
    "  return d"
   ]
  },
  {
   "cell_type": "markdown",
   "id": "e73d7957-cdf2-40d8-ae6a-4c7ed4c1a25b",
   "metadata": {
    "lines_to_next_cell": 2
   },
   "source": [
    "## Neural network optimization"
   ]
  },
  {
   "cell_type": "code",
   "execution_count": 8,
   "id": "f35c57c2-a472-45a7-b5c2-d0cf7647e8d6",
   "metadata": {
    "execution": {
     "iopub.execute_input": "2024-01-12T07:01:21.723373Z",
     "iopub.status.busy": "2024-01-12T07:01:21.723003Z",
     "iopub.status.idle": "2024-01-12T07:01:21.731776Z",
     "shell.execute_reply": "2024-01-12T07:01:21.731187Z",
     "shell.execute_reply.started": "2024-01-12T07:01:21.723356Z"
    },
    "lines_to_next_cell": 2
   },
   "outputs": [],
   "source": [
    "def fit_neural_network(params, activations, target_function, num_steps=1500):\n",
    "  tensor_params = {\n",
    "      key: torch.tensor([value], dtype=torch.float32, requires_grad=True)\n",
    "      for key, value in params.items()\n",
    "  }\n",
    "  variables = list(tensor_params.values())\n",
    "  x_train = torch.linspace(0, 1, 100, dtype=torch.float32)\n",
    "  y_train = target_function(x_train)\n",
    "\n",
    "  learning_rate = 0.01\n",
    "  optimizer = torch.optim.Adam(variables, lr=learning_rate)\n",
    "  for step in range(num_steps):\n",
    "    optimizer.zero_grad()\n",
    "    (y_pred,) = neural_network([x_train], tensor_params, activations)\n",
    "    loss = torch.mean((y_train - y_pred) ** 2)\n",
    "    loss.backward()\n",
    "    optimizer.step()\n",
    "    if VERBOSE and step % 100 == 0:\n",
    "      print(f'Step {step}, Loss: {loss.item()}')  # See messages using \"log\" icon.\n",
    "\n",
    "  return {key: tensor.detach().numpy().item() for key, tensor in tensor_params.items()}"
   ]
  },
  {
   "cell_type": "markdown",
   "id": "ae6ca75e-a200-402c-a340-6c8e7f7b184e",
   "metadata": {
    "execution": {
     "iopub.execute_input": "2024-01-11T02:50:52.802898Z",
     "iopub.status.busy": "2024-01-11T02:50:52.802436Z",
     "iopub.status.idle": "2024-01-11T02:50:52.805347Z",
     "shell.execute_reply": "2024-01-11T02:50:52.804839Z",
     "shell.execute_reply.started": "2024-01-11T02:50:52.802879Z"
    },
    "lines_to_next_cell": 2
   },
   "source": [
    "## User interface"
   ]
  },
  {
   "cell_type": "code",
   "execution_count": 9,
   "id": "6617395d-6b20-4178-907b-165fb25b678c",
   "metadata": {
    "execution": {
     "iopub.execute_input": "2024-01-12T07:01:21.733248Z",
     "iopub.status.busy": "2024-01-12T07:01:21.732777Z",
     "iopub.status.idle": "2024-01-12T07:01:21.743501Z",
     "shell.execute_reply": "2024-01-12T07:01:21.742917Z",
     "shell.execute_reply.started": "2024-01-12T07:01:21.733228Z"
    }
   },
   "outputs": [],
   "source": [
    "def display_network_graph():\n",
    "  graph = networkx.DiGraph()\n",
    "  pos = {}\n",
    "  for layer_index, layer_size in enumerate(LAYER_SIZES):\n",
    "    for node_index in range(layer_size):\n",
    "      graph.add_node(node := f'n{layer_index}{node_index}')\n",
    "      pos[node] = layer_index * 6, ((layer_size - 1) / 2 - node_index) * 4\n",
    "      if layer_index > 0:\n",
    "        for prev_index in range(LAYER_SIZES[layer_index - 1]):\n",
    "          label = f'w{layer_index}{node_index}{prev_index}'\n",
    "          graph.add_edge(f'n{layer_index - 1}{prev_index}', node, label=label)\n",
    "\n",
    "  _, ax = plt.subplots(figsize=(12, 6), dpi=70)\n",
    "  networkx.draw(graph, pos, ax=ax, node_size=800, node_color='lightblue', with_labels=True)\n",
    "  edge_labels = networkx.get_edge_attributes(graph, 'label')\n",
    "  networkx.draw_networkx_edge_labels(graph, pos, edge_labels=edge_labels, font_size=12)\n",
    "  plt.show()"
   ]
  },
  {
   "cell_type": "code",
   "execution_count": 16,
   "id": "71c72ba3-c214-4943-bb8f-e870f4e0c499",
   "metadata": {
    "execution": {
     "iopub.execute_input": "2024-01-12T07:06:03.609295Z",
     "iopub.status.busy": "2024-01-12T07:06:03.608695Z",
     "iopub.status.idle": "2024-01-12T07:06:03.620648Z",
     "shell.execute_reply": "2024-01-12T07:06:03.619982Z",
     "shell.execute_reply.started": "2024-01-12T07:06:03.609275Z"
    }
   },
   "outputs": [],
   "source": [
    "class MainPlot:\n",
    "  \"\"\"User interface for main plot.\"\"\"\n",
    "\n",
    "  def __init__(self):\n",
    "    self.params = get_reset_params()\n",
    "    self.target_selector = ipywidgets.RadioButtons(\n",
    "        options=list(TARGETS), value='sine', description='Target function:'\n",
    "    )\n",
    "    self.activation_selector = ipywidgets.RadioButtons(\n",
    "        options=list(ACTIVATIONS), value='leaky_relu', description='Activation function:'\n",
    "    )\n",
    "    self.layer_selector = ipywidgets.RadioButtons(\n",
    "        options=range(len(LAYER_SIZES)), value=len(LAYER_SIZES[1:]), description='Plot layer:'\n",
    "    )\n",
    "    self.sliders = self.create_sliders() if SHOW_SLIDERS else {}\n",
    "    self.center_button = ipywidgets.Button(description='Center slider ranges')\n",
    "    self.reset_button = ipywidgets.Button(description='Reset params')\n",
    "    self.randomize_button = ipywidgets.Button(description='Randomize params')\n",
    "    self.fit_button = ipywidgets.Button(description='Fit target')\n",
    "    self.output = ipywidgets.Output()\n",
    "    self.textarea = ipywidgets.Textarea(\n",
    "        rows=len(LAYER_SIZES[1:]), layout={'width': '800px'}, disabled=True\n",
    "    )\n",
    "\n",
    "    self.target_selector.observe(lambda change: self.update_plot(), names='value')\n",
    "    self.activation_selector.observe(lambda change: self.update_plot(), names='value')\n",
    "    self.layer_selector.observe(lambda change: self.update_plot(), names='value')\n",
    "    for slider in self.sliders.values():\n",
    "      slider.observe(lambda change: self.on_slider_change(), 'value')\n",
    "    self.center_button.on_click(lambda button: self.center_slider_range())\n",
    "    # (Due to a bug in slider value update, we may need to press a button more than once.)\n",
    "    self.reset_button.on_click(lambda button: self.reset_parameters())\n",
    "    self.randomize_button.on_click(lambda button: self.randomize_parameters())\n",
    "    self.fit_button.on_click(lambda button: self.fit_target())\n",
    "\n",
    "  def create_sliders(self):\n",
    "    a = dict(step=0.01, continuous_update=True)\n",
    "    return {\n",
    "        key: ipywidgets.FloatSlider(value=value, min=value - R, max=value + R, description=key, **a)\n",
    "        for key, value in self.params.items()\n",
    "    }\n",
    "\n",
    "  def get_activations(self):\n",
    "    return [ACTIVATIONS[self.activation_selector.value]] * (len(LAYER_SIZES) - 1) + [identity]\n",
    "\n",
    "  def update_plot(self):\n",
    "    text_lines = []\n",
    "    for layer_index in range(1, len(LAYER_SIZES)):\n",
    "      t = ', '.join(f'{k}={v:.2f}' for k, v in self.params.items() if int(k[1]) == layer_index)\n",
    "      text_lines.append(f'dict({t})')\n",
    "    self.textarea.value = '\\n'.join(text_lines)\n",
    "    with self.output:\n",
    "      self.output.clear_output(wait=True)\n",
    "      _, ax = plt.subplots(figsize=(10, 5))\n",
    "      x = np.linspace(0, 1, 100)\n",
    "      ax.plot(x, TARGETS[self.target_selector.value](x), lw=0.5, label='target')\n",
    "      output_layer_index = self.layer_selector.value\n",
    "      output_nodes = neural_network(\n",
    "          [x], self.params, self.get_activations(), output_layer_index=output_layer_index\n",
    "      )\n",
    "      for node_index, node in enumerate(output_nodes):\n",
    "        ax.plot(x, node, label=f'node n{output_layer_index}{node_index}')\n",
    "      ax.set(xlabel='x', ylabel='y=f(x)', ylim=(-2, 2))\n",
    "      ax.grid(True)\n",
    "      ax.legend(loc='upper right')\n",
    "      plt.show()\n",
    "\n",
    "  def update_params(self, new_params, center_sliders=True):\n",
    "    self.params = new_params\n",
    "    if SHOW_SLIDERS:\n",
    "      with contextlib.ExitStack() as stack:\n",
    "        for slider in reversed(self.sliders.values()):\n",
    "          stack.enter_context(slider.hold_trait_notifications())\n",
    "        for key, slider in self.sliders.items():\n",
    "          value = self.params[key]\n",
    "          if slider.value != value:  # Not sure if test is useful.\n",
    "            slider.value = value  # Bug: https://github.com/jupyter-widgets/ipywidgets/issues/3824.\n",
    "          if center_sliders:\n",
    "            slider.min = value - R\n",
    "            slider.max = value + R\n",
    "    self.update_plot()\n",
    "\n",
    "  def on_slider_change(self):\n",
    "    self.update_params(\n",
    "        {key: slider.value for key, slider in self.sliders.items()}, center_sliders=False\n",
    "    )\n",
    "\n",
    "  def center_slider_range(self):\n",
    "    for slider in self.sliders.values():\n",
    "      slider.min, slider.max = slider.value - R, slider.value + R\n",
    "\n",
    "  def reset_parameters(self):\n",
    "    self.update_params(get_reset_params())\n",
    "\n",
    "  def randomize_parameters(self):\n",
    "    rng = np.random.default_rng()  # Non-deterministic.\n",
    "    self.update_params({key: rng.random() * 2 - 1 for key in self.params})\n",
    "\n",
    "  def fit_target(self):\n",
    "    self.update_params(\n",
    "        fit_neural_network(self.params, self.get_activations(), TARGETS[self.target_selector.value])\n",
    "    )\n",
    "\n",
    "  def display(self):\n",
    "    self.reset_parameters()\n",
    "    selectors = ipywidgets.HBox(\n",
    "        [self.target_selector, self.activation_selector, self.layer_selector]\n",
    "    )\n",
    "    layers = [ipywidgets.Label('Weight and bias parameters in each network layer:')]\n",
    "    for layer_index in range(1, len(LAYER_SIZES)):\n",
    "      layer_sliders = [slider for key, slider in self.sliders.items() if int(key[1]) == layer_index]\n",
    "      layers.append(ipywidgets.HBox([ipywidgets.Label(f'Layer {layer_index}:')] + layer_sliders))\n",
    "    buttons = ipywidgets.HBox(\n",
    "        [self.center_button, self.reset_button, self.randomize_button, self.fit_button]\n",
    "    )\n",
    "    rows = [selectors, *layers, buttons, self.output, self.textarea]\n",
    "    return ipywidgets.VBox(rows)"
   ]
  },
  {
   "cell_type": "code",
   "execution_count": 17,
   "id": "1780f2cc-bf69-4d70-b2cd-b75dc14e5e48",
   "metadata": {
    "execution": {
     "iopub.execute_input": "2024-01-12T07:06:04.113226Z",
     "iopub.status.busy": "2024-01-12T07:06:04.112966Z",
     "iopub.status.idle": "2024-01-12T07:06:04.133181Z",
     "shell.execute_reply": "2024-01-12T07:06:04.132579Z",
     "shell.execute_reply.started": "2024-01-12T07:06:04.113212Z"
    }
   },
   "outputs": [],
   "source": [
    "main_plot = MainPlot()"
   ]
  },
  {
   "cell_type": "code",
   "execution_count": 18,
   "id": "45e052bd-4a97-49c1-9ba2-ff4d416213ef",
   "metadata": {
    "execution": {
     "iopub.execute_input": "2024-01-12T07:06:05.656987Z",
     "iopub.status.busy": "2024-01-12T07:06:05.656722Z",
     "iopub.status.idle": "2024-01-12T07:06:05.759609Z",
     "shell.execute_reply": "2024-01-12T07:06:05.758763Z",
     "shell.execute_reply.started": "2024-01-12T07:06:05.656974Z"
    }
   },
   "outputs": [
    {
     "data": {
      "image/png": "[encoded data removed]",
      "text/plain": [
       "<Figure size 840x420 with 1 Axes>"
      ]
     },
     "metadata": {},
     "output_type": "display_data"
    }
   ],
   "source": [
    "display_network_graph()"
   ]
  },
  {
   "cell_type": "code",
   "execution_count": 19,
   "id": "222b46ca-69b1-4d1f-a4bc-1f23976f51dd",
   "metadata": {
    "execution": {
     "iopub.execute_input": "2024-01-12T07:06:07.326043Z",
     "iopub.status.busy": "2024-01-12T07:06:07.325653Z",
     "iopub.status.idle": "2024-01-12T07:06:07.415568Z",
     "shell.execute_reply": "2024-01-12T07:06:07.415071Z",
     "shell.execute_reply.started": "2024-01-12T07:06:07.326025Z"
    }
   },
   "outputs": [
    {
     "data": {
      "application/vnd.jupyter.widget-view+json": {
       "model_id": "4211e2b460504d32b64302a711f08d15",
       "version_major": 2,
       "version_minor": 0
      },
      "text/plain": [
       "VBox(children=(HBox(children=(RadioButtons(description='Target function:', options=('sine', 'cosine', 'triangl…"
      ]
     },
     "execution_count": 19,
     "metadata": {},
     "output_type": "execute_result"
    }
   ],
   "source": [
    "main_plot.display()"
   ]
  },
  {
   "cell_type": "markdown",
   "id": "28fe83d2",
   "metadata": {},
   "source": [
    "# End"
   ]
  },
  {
   "cell_type": "markdown",
   "id": "cbdb45a1",
   "metadata": {},
   "source": [
    "<!-- For Emacs:\n",
    "Local Variables:\n",
    "fill-column: 100\n",
    "End:\n",
    "-->"
   ]
  }
 ],
 "metadata": {
  "colab": {
   "collapsed_sections": [],
   "provenance": [],
   "toc_visible": true
  },
  "jupytext": {
   "cell_metadata_filter": "-all",
   "formats": "ipynb,py:percent",
   "main_language": "python",
   "notebook_metadata_filter": "-all"
  },
  "kernelspec": {
   "display_name": "Python 3 (ipykernel)",
   "language": "python",
   "name": "python3"
  },
  "language_info": {
   "codemirror_mode": {
    "name": "ipython",
    "version": 3
   },
   "file_extension": ".py",
   "mimetype": "text/x-python",
   "name": "python",
   "nbconvert_exporter": "python",
   "pygments_lexer": "ipython3",
   "version": "3.10.12"
  }
 },
 "nbformat": 4,
 "nbformat_minor": 5
}
