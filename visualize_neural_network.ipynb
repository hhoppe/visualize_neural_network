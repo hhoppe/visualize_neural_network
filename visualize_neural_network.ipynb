{
 "cells": [
  {
   "cell_type": "markdown",
   "id": "0085c5fe-2982-45ae-94ef-028775409293",
   "metadata": {
    "lines_to_next_cell": 2
   },
   "source": [
    "# Visualize a 1D neural network"
   ]
  },
  {
   "cell_type": "markdown",
   "id": "52465b0d-21cf-471b-b81b-644d44fc8a0e",
   "metadata": {},
   "source": [
    "Optimization and interactive control of a 1D -> 1D neural network function."
   ]
  },
  {
   "cell_type": "markdown",
   "id": "68e12226-2df7-440c-b8e1-bed720364746",
   "metadata": {
    "execution": {
     "iopub.execute_input": "2024-01-11T02:53:09.010080Z",
     "iopub.status.busy": "2024-01-11T02:53:09.009633Z",
     "iopub.status.idle": "2024-01-11T02:53:09.012761Z",
     "shell.execute_reply": "2024-01-11T02:53:09.012024Z",
     "shell.execute_reply.started": "2024-01-11T02:53:09.010052Z"
    }
   },
   "source": [
    "## Preamble"
   ]
  },
  {
   "cell_type": "code",
   "execution_count": 1,
   "id": "1d3ff077-a516-4d19-8e4c-fc7a29f9a783",
   "metadata": {
    "execution": {
     "iopub.execute_input": "2024-01-12T02:15:36.595429Z",
     "iopub.status.busy": "2024-01-12T02:15:36.595246Z",
     "iopub.status.idle": "2024-01-12T02:15:37.830652Z",
     "shell.execute_reply": "2024-01-12T02:15:37.830094Z",
     "shell.execute_reply.started": "2024-01-12T02:15:36.595415Z"
    }
   },
   "outputs": [],
   "source": [
    "# pylint: disable=missing-function-docstring, global-statement, redefined-outer-name\n",
    "\n",
    "import contextlib\n",
    "import math\n",
    "from typing import Any\n",
    "\n",
    "import IPython.display\n",
    "import ipywidgets\n",
    "import matplotlib.pyplot as plt\n",
    "import numpy as np\n",
    "import torch"
   ]
  },
  {
   "cell_type": "code",
   "execution_count": 2,
   "id": "450dd4e0-c2ab-4fe8-bee6-9282aa5e971c",
   "metadata": {
    "execution": {
     "iopub.execute_input": "2024-01-12T02:15:37.831976Z",
     "iopub.status.busy": "2024-01-12T02:15:37.831733Z",
     "iopub.status.idle": "2024-01-12T02:15:37.835051Z",
     "shell.execute_reply": "2024-01-12T02:15:37.834527Z",
     "shell.execute_reply.started": "2024-01-12T02:15:37.831964Z"
    }
   },
   "outputs": [],
   "source": [
    "SHOW_SLIDERS = True\n",
    "VERBOSE = False\n",
    "R = 10"
   ]
  },
  {
   "cell_type": "code",
   "execution_count": 3,
   "id": "bbf1fc8b-2672-405c-8375-79c36532df03",
   "metadata": {
    "execution": {
     "iopub.execute_input": "2024-01-12T02:15:37.835956Z",
     "iopub.status.busy": "2024-01-12T02:15:37.835705Z",
     "iopub.status.idle": "2024-01-12T02:15:37.846056Z",
     "shell.execute_reply": "2024-01-12T02:15:37.845111Z",
     "shell.execute_reply.started": "2024-01-12T02:15:37.835943Z"
    }
   },
   "outputs": [],
   "source": [
    "# LAYER_SIZES = 3, 1\n",
    "LAYER_SIZES = 2, 2, 1\n",
    "# LAYER_SIZES = 3, 3, 1\n",
    "# LAYER_SIZES = 4, 4, 1\n",
    "# LAYER_SIZES = 4, 4, 4, 1  # It is best to set SHOW_SLIDERS=False."
   ]
  },
  {
   "cell_type": "markdown",
   "id": "eb340272-d2c1-4c00-8e77-b596c9b3f948",
   "metadata": {
    "execution": {
     "iopub.execute_input": "2024-01-11T02:49:47.538972Z",
     "iopub.status.busy": "2024-01-11T02:49:47.538630Z",
     "iopub.status.idle": "2024-01-11T02:49:47.541697Z",
     "shell.execute_reply": "2024-01-11T02:49:47.541218Z",
     "shell.execute_reply.started": "2024-01-11T02:49:47.538943Z"
    }
   },
   "source": [
    "## Target functions"
   ]
  },
  {
   "cell_type": "code",
   "execution_count": 4,
   "id": "cfa74753-ec8b-4a3e-8c08-0d48e4341c7b",
   "metadata": {
    "execution": {
     "iopub.execute_input": "2024-01-12T02:15:37.847584Z",
     "iopub.status.busy": "2024-01-12T02:15:37.846957Z",
     "iopub.status.idle": "2024-01-12T02:15:37.857725Z",
     "shell.execute_reply": "2024-01-12T02:15:37.857085Z",
     "shell.execute_reply.started": "2024-01-12T02:15:37.847556Z"
    },
    "lines_to_next_cell": 2
   },
   "outputs": [],
   "source": [
    "TARGETS = {\n",
    "    'sine': lambda x: np.sin(math.tau * x),\n",
    "    'cosine': lambda x: np.cos(math.tau * x),\n",
    "    'triangle': lambda x: 1 - 2 * np.abs(x - 0.5),\n",
    "    'half-sine': lambda x: np.sin(math.tau / 2 * x),\n",
    "}"
   ]
  },
  {
   "cell_type": "markdown",
   "id": "1d44aec5-6b43-4d29-93aa-a40d5c8f034a",
   "metadata": {
    "lines_to_next_cell": 2
   },
   "source": [
    "## Activation functions"
   ]
  },
  {
   "cell_type": "code",
   "execution_count": 5,
   "id": "424239ab-3891-4f43-9c7b-51eedaf52831",
   "metadata": {
    "execution": {
     "iopub.execute_input": "2024-01-12T02:15:37.858782Z",
     "iopub.status.busy": "2024-01-12T02:15:37.858486Z",
     "iopub.status.idle": "2024-01-12T02:15:37.868039Z",
     "shell.execute_reply": "2024-01-12T02:15:37.867382Z",
     "shell.execute_reply.started": "2024-01-12T02:15:37.858767Z"
    }
   },
   "outputs": [],
   "source": [
    "def relu(x):\n",
    "  return torch.nn.functional.relu(x) if isinstance(x, torch.Tensor) else np.maximum(0, x)\n",
    "\n",
    "\n",
    "def leaky_relu(x, negative_slope=0.1):\n",
    "  if isinstance(x, torch.Tensor):\n",
    "    return torch.nn.functional.leaky_relu(x, negative_slope=negative_slope)\n",
    "  return np.maximum(x * negative_slope, x)\n",
    "\n",
    "\n",
    "def identity(x):\n",
    "  return x\n",
    "\n",
    "\n",
    "def sigmoid(x):\n",
    "  return torch.sigmoid(x) if isinstance(x, torch.Tensor) else 1 / (1 + np.exp(-x))"
   ]
  },
  {
   "cell_type": "code",
   "execution_count": 6,
   "id": "675fc9f7-9bd7-4df0-a003-4ef83e5d0230",
   "metadata": {
    "execution": {
     "iopub.execute_input": "2024-01-12T02:15:37.869292Z",
     "iopub.status.busy": "2024-01-12T02:15:37.868786Z",
     "iopub.status.idle": "2024-01-12T02:15:37.877205Z",
     "shell.execute_reply": "2024-01-12T02:15:37.876555Z",
     "shell.execute_reply.started": "2024-01-12T02:15:37.869276Z"
    },
    "lines_to_next_cell": 2
   },
   "outputs": [],
   "source": [
    "ACTIVATIONS = {'relu': relu, 'leaky_relu': leaky_relu, 'identity': identity, 'sigmoid': sigmoid}"
   ]
  },
  {
   "cell_type": "markdown",
   "id": "257f2c7f-1c3b-475a-b5bc-b3cdcb2c4545",
   "metadata": {
    "lines_to_next_cell": 2
   },
   "source": [
    "## Neural network"
   ]
  },
  {
   "cell_type": "code",
   "execution_count": 7,
   "id": "36cb516a-9903-4c3c-9116-569ec92229d0",
   "metadata": {
    "execution": {
     "iopub.execute_input": "2024-01-12T02:15:37.879305Z",
     "iopub.status.busy": "2024-01-12T02:15:37.878851Z",
     "iopub.status.idle": "2024-01-12T02:15:37.887482Z",
     "shell.execute_reply": "2024-01-12T02:15:37.886769Z",
     "shell.execute_reply.started": "2024-01-12T02:15:37.879284Z"
    },
    "lines_to_next_cell": 2
   },
   "outputs": [],
   "source": [
    "# The dictionary `params` contains weights 'w{layer}{curr_index}{prev_index}' and\n",
    "# biases 'b{layer}{index}', as either float values or (scalar) torch tensors.\n",
    "def neural_network(x, params):\n",
    "  prev_nodes = [x]\n",
    "  for layer_index, layer_size in enumerate(LAYER_SIZES):\n",
    "    is_last_layer = layer_index == len(LAYER_SIZES) - 1\n",
    "    activation: Any = ACTIVATIONS[activation_selector.value] if not is_last_layer else identity\n",
    "    nodes = []\n",
    "    for node_index in range(layer_size):\n",
    "      linear = sum(\n",
    "          params[f'w{layer_index}{node_index}{prev_index}'] * prev_node\n",
    "          for prev_index, prev_node in enumerate(prev_nodes)\n",
    "      )\n",
    "      node = activation(linear + params[f'b{layer_index}{node_index}'])\n",
    "      nodes.append(node)\n",
    "    prev_nodes = nodes\n",
    "  (y,) = prev_nodes  # The last neural network layer must have a single node.\n",
    "  return y"
   ]
  },
  {
   "cell_type": "markdown",
   "id": "ee2a722d-c0dc-4164-8842-340cdfa48fdb",
   "metadata": {
    "lines_to_next_cell": 2
   },
   "source": [
    "## Params initialization"
   ]
  },
  {
   "cell_type": "code",
   "execution_count": 8,
   "id": "20548184-8448-480e-90bc-e57d06004b90",
   "metadata": {
    "execution": {
     "iopub.execute_input": "2024-01-12T02:15:37.888729Z",
     "iopub.status.busy": "2024-01-12T02:15:37.888248Z",
     "iopub.status.idle": "2024-01-12T02:15:37.897961Z",
     "shell.execute_reply": "2024-01-12T02:15:37.897239Z",
     "shell.execute_reply.started": "2024-01-12T02:15:37.888714Z"
    },
    "lines_to_next_cell": 2
   },
   "outputs": [],
   "source": [
    "def get_reset_values():\n",
    "  d: dict[str, float] = {}\n",
    "\n",
    "  if LAYER_SIZES == (3, 1):\n",
    "    d |= dict(w000=1.3, b00=-0.2, w010=3.0, b01=-2.1, w020=2.5, b02=-1.0)\n",
    "    d |= dict(w100=7.0, w101=4.0, w102=-5.8, b10=-1.0)\n",
    "\n",
    "  elif LAYER_SIZES == (2, 2, 1):\n",
    "    # d |= dict(w000=-4.74, b00=2.05, w010=8.98, b01=0.14)\n",
    "    # d |= dict(w100=-1.88, w101=-0.43, b10=2.84, w110=0.19, w111=-0.66, b11=1.97)\n",
    "    # d |= dict(w200=-1.62, w201=-0.83, b20=0.66)\n",
    "    d |= dict(w000=-3.45, b00=1.73, w010=5.27, b01=-2.44)\n",
    "    d |= dict(w100=-2.21, w101=-0.27, b10=2.03, w110=0.51, w111=-0.66, b11=1.00)\n",
    "    d |= dict(w200=-1.46, w201=-1.48, b20=3.08)\n",
    "\n",
    "  else:\n",
    "    rng = np.random.default_rng(0)  # Deterministic.\n",
    "    prev_size = 1\n",
    "    for layer_index, layer_size in enumerate(LAYER_SIZES):\n",
    "      for node_index in range(layer_size):\n",
    "        for prev_index in range(prev_size):\n",
    "          d[f'w{layer_index}{node_index}{prev_index}'] = rng.random() * 2 - 1\n",
    "        d[f'b{layer_index}{node_index}'] = rng.random() * 2 - 1\n",
    "      prev_size = layer_size\n",
    "    assert prev_size == 1\n",
    "\n",
    "  return d\n",
    "\n",
    "\n",
    "RESET_VALUES = get_reset_values()\n",
    "params = RESET_VALUES"
   ]
  },
  {
   "cell_type": "markdown",
   "id": "e73d7957-cdf2-40d8-ae6a-4c7ed4c1a25b",
   "metadata": {
    "lines_to_next_cell": 2
   },
   "source": [
    "## Neural network optimization"
   ]
  },
  {
   "cell_type": "code",
   "execution_count": 9,
   "id": "f35c57c2-a472-45a7-b5c2-d0cf7647e8d6",
   "metadata": {
    "execution": {
     "iopub.execute_input": "2024-01-12T02:15:37.899125Z",
     "iopub.status.busy": "2024-01-12T02:15:37.898739Z",
     "iopub.status.idle": "2024-01-12T02:15:37.910650Z",
     "shell.execute_reply": "2024-01-12T02:15:37.909923Z",
     "shell.execute_reply.started": "2024-01-12T02:15:37.899111Z"
    },
    "lines_to_next_cell": 2
   },
   "outputs": [],
   "source": [
    "def fit_neural_network(num_steps=1500):\n",
    "  tensor_params = {\n",
    "      key: torch.tensor([value], dtype=torch.float32, requires_grad=True)\n",
    "      for key, value in params.items()\n",
    "  }\n",
    "  variables = list(tensor_params.values())\n",
    "  x_train = torch.linspace(0, 1, 100, dtype=torch.float32)\n",
    "  y_train = TARGETS[target_selector.value](x_train)\n",
    "\n",
    "  learning_rate = 0.01\n",
    "  optimizer = torch.optim.Adam(variables, lr=learning_rate)\n",
    "  for step in range(num_steps):\n",
    "    optimizer.zero_grad()\n",
    "    y_pred = neural_network(x_train, tensor_params)\n",
    "    loss = torch.mean((y_train - y_pred) ** 2)\n",
    "    loss.backward()\n",
    "    optimizer.step()\n",
    "    if VERBOSE and step % 100 == 0:\n",
    "      print(f'Step {step}, Loss: {loss.item()}')  # See messages using \"log\" icon.\n",
    "\n",
    "  update_params({key: tensor.detach().numpy().item() for key, tensor in tensor_params.items()})"
   ]
  },
  {
   "cell_type": "markdown",
   "id": "ae6ca75e-a200-402c-a340-6c8e7f7b184e",
   "metadata": {
    "execution": {
     "iopub.execute_input": "2024-01-11T02:50:52.802898Z",
     "iopub.status.busy": "2024-01-11T02:50:52.802436Z",
     "iopub.status.idle": "2024-01-11T02:50:52.805347Z",
     "shell.execute_reply": "2024-01-11T02:50:52.804839Z",
     "shell.execute_reply.started": "2024-01-11T02:50:52.802879Z"
    },
    "lines_to_next_cell": 2
   },
   "source": [
    "## User interface"
   ]
  },
  {
   "cell_type": "code",
   "execution_count": 10,
   "id": "847d0fa1-33c4-4054-bf63-22dc51843786",
   "metadata": {
    "execution": {
     "iopub.execute_input": "2024-01-12T02:15:37.911527Z",
     "iopub.status.busy": "2024-01-12T02:15:37.911367Z",
     "iopub.status.idle": "2024-01-12T02:15:38.122983Z",
     "shell.execute_reply": "2024-01-12T02:15:38.122409Z",
     "shell.execute_reply.started": "2024-01-12T02:15:37.911515Z"
    }
   },
   "outputs": [
    {
     "data": {
      "application/vnd.jupyter.widget-view+json": {
       "model_id": "95e78c22917e43f3b98d1e158086e897",
       "version_major": 2,
       "version_minor": 0
      },
      "text/plain": [
       "VBox(children=(HBox(children=(RadioButtons(description='Target function:', options=('sine', 'cosine', 'triangl…"
      ]
     },
     "metadata": {},
     "output_type": "display_data"
    }
   ],
   "source": [
    "def get_sliders():\n",
    "  a = dict(step=0.01, continuous_update=True)\n",
    "  return {\n",
    "      key: ipywidgets.FloatSlider(value=value, min=value - R, max=value + R, description=key, **a)\n",
    "      for key, value in params.items()\n",
    "  }\n",
    "\n",
    "\n",
    "target_selector = ipywidgets.RadioButtons(\n",
    "    options=list(TARGETS), value='sine', description='Target function:'\n",
    ")\n",
    "activation_selector = ipywidgets.RadioButtons(\n",
    "    options=list(ACTIVATIONS), value='leaky_relu', description='Activation function:'\n",
    ")\n",
    "sliders = get_sliders() if SHOW_SLIDERS else {}\n",
    "center_button = ipywidgets.Button(description='Center slider ranges')\n",
    "reset_button = ipywidgets.Button(description='Reset params')\n",
    "randomize_button = ipywidgets.Button(description='Randomize params')\n",
    "fit_button = ipywidgets.Button(description='Fit target')\n",
    "output = ipywidgets.Output()\n",
    "textarea = ipywidgets.Textarea(rows=len(LAYER_SIZES), layout={'width': '600px'}, disabled=True)\n",
    "\n",
    "\n",
    "def update_plot():\n",
    "  text_lines = []\n",
    "  for layer_index in range(len(LAYER_SIZES)):\n",
    "    layer_str = ', '.join(f'{k}={v:.2f}' for k, v in params.items() if int(k[1]) == layer_index)\n",
    "    text_lines.append(f'dict({layer_str})')\n",
    "  textarea.value = '\\n'.join(text_lines)\n",
    "  with output:\n",
    "    output.clear_output(wait=True)\n",
    "    _, ax = plt.subplots(figsize=(10, 5))\n",
    "    x = np.linspace(0, 1, 100)\n",
    "    ax.plot(x, neural_network(x, params), label='neural network')\n",
    "    ax.plot(x, TARGETS[target_selector.value](x), lw=0.5, label='target')\n",
    "    ax.set(xlabel='x', ylabel='y=f(x)', ylim=(-2, 2))\n",
    "    ax.grid(True)\n",
    "    ax.legend(loc='upper right')\n",
    "    plt.show()\n",
    "\n",
    "\n",
    "def update_params(new_params, center_sliders=True):\n",
    "  global params\n",
    "  params = new_params\n",
    "  if SHOW_SLIDERS:\n",
    "    with contextlib.ExitStack() as stack:\n",
    "      for slider in reversed(sliders.values()):\n",
    "        stack.enter_context(slider.hold_trait_notifications())\n",
    "      for key, slider in sliders.items():\n",
    "        value = params[key]\n",
    "        slider.value = value  # Bug: https://github.com/jupyter-widgets/ipywidgets/issues/3824.\n",
    "        if center_sliders:\n",
    "          slider.min = value - R\n",
    "          slider.max = value + R\n",
    "  update_plot()\n",
    "\n",
    "\n",
    "def on_slider_change():\n",
    "  update_params({key: slider.value for key, slider in sliders.items()}, center_sliders=False)\n",
    "\n",
    "\n",
    "def center_slider_range():\n",
    "  for slider in sliders.values():\n",
    "    value = slider.value\n",
    "    slider.min, slider.max = value - R, value + R\n",
    "\n",
    "\n",
    "def reset_parameters():\n",
    "  update_params(RESET_VALUES)\n",
    "\n",
    "\n",
    "def randomize_parameters():\n",
    "  rng = np.random.default_rng()  # Non-deterministic.\n",
    "  update_params({key: rng.random() * 2 - 1 for key in params})\n",
    "\n",
    "\n",
    "def initialize_ui():\n",
    "  target_selector.observe(lambda change: update_plot(), names='value')\n",
    "  activation_selector.observe(lambda change: update_plot(), names='value')\n",
    "  for slider in sliders.values():\n",
    "    slider.observe(lambda change: on_slider_change(), 'value')\n",
    "  center_button.on_click(lambda button: center_slider_range())\n",
    "  # Due to a bug in slider value update, we may need to press a button more than once.\n",
    "  reset_button.on_click(lambda button: reset_parameters())\n",
    "  randomize_button.on_click(lambda button: randomize_parameters())\n",
    "  fit_button.on_click(lambda button: fit_neural_network())\n",
    "\n",
    "  reset_parameters()\n",
    "  selectors = ipywidgets.HBox([target_selector, activation_selector])\n",
    "  layers = [ipywidgets.Label('Weight and bias parameters in each network layer:')]\n",
    "  for layer_index in range(len(LAYER_SIZES)):\n",
    "    layer_sliders = [slider for key, slider in sliders.items() if int(key[1]) == layer_index]\n",
    "    layers.append(ipywidgets.HBox([ipywidgets.Label(f'Layer {layer_index}:')] + layer_sliders))\n",
    "  buttons = ipywidgets.HBox([center_button, reset_button, randomize_button, fit_button])\n",
    "  rows = [selectors, *layers, buttons, output, textarea]\n",
    "  IPython.display.display(ipywidgets.VBox(rows))\n",
    "\n",
    "\n",
    "initialize_ui()"
   ]
  },
  {
   "cell_type": "markdown",
   "id": "28fe83d2",
   "metadata": {},
   "source": [
    "# End"
   ]
  },
  {
   "cell_type": "markdown",
   "id": "cbdb45a1",
   "metadata": {},
   "source": [
    "<!-- For Emacs:\n",
    "Local Variables:\n",
    "fill-column: 100\n",
    "End:\n",
    "-->"
   ]
  }
 ],
 "metadata": {
  "colab": {
   "collapsed_sections": [],
   "provenance": [],
   "toc_visible": true
  },
  "jupytext": {
   "cell_metadata_filter": "-all",
   "formats": "ipynb,py:percent",
   "main_language": "python",
   "notebook_metadata_filter": "-all"
  },
  "kernelspec": {
   "display_name": "Python 3 (ipykernel)",
   "language": "python",
   "name": "python3"
  },
  "language_info": {
   "codemirror_mode": {
    "name": "ipython",
    "version": 3
   },
   "file_extension": ".py",
   "mimetype": "text/x-python",
   "name": "python",
   "nbconvert_exporter": "python",
   "pygments_lexer": "ipython3",
   "version": "3.10.12"
  }
 },
 "nbformat": 4,
 "nbformat_minor": 5
}
